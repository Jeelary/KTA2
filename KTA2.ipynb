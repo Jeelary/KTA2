{
 "cells": [
  {
   "cell_type": "code",
   "execution_count": 1,
   "id": "37d42e29",
   "metadata": {},
   "outputs": [],
   "source": [
    "import numpy as np"
   ]
  },
  {
   "cell_type": "code",
   "execution_count": 2,
   "id": "f39f4516",
   "metadata": {},
   "outputs": [],
   "source": [
    "def UF7(pop):\n",
    "    fitness = np.empty((0,2))\n",
    "    for x in pop:\n",
    "        J1 = 0\n",
    "        J2 = 0\n",
    "\n",
    "        sum1 = 0\n",
    "        sum2 = 0\n",
    "        fit_ind = np.array([])\n",
    "        \n",
    "        for j in range(1, len(x)):\n",
    "            if j % 2 == 0:\n",
    "                J1 += 1\n",
    "                sum1 += (x[j] - np.sin(6 * np.pi * x[0] + ((j+1) * np.pi) / len(x))) ** 2\n",
    "            if j % 2 == 1:\n",
    "                J2 += 1\n",
    "                sum2 += (x[j] - np.sin(6 * np.pi * x[0] + ((j+1) * np.pi) / len(x))) ** 2\n",
    "\n",
    "        if J1 == 0:\n",
    "            f1 = x[0]\n",
    "        else:\n",
    "            f1 = x[0] + 2 / J1 * sum1\n",
    "\n",
    "        if J2 == 0:\n",
    "            f2 = 1 - np.sqrt(x[0])\n",
    "        else:\n",
    "            f2 = 1 - np.sqrt(x[0]) + 2 / J2 * sum2\n",
    "        \n",
    "        fit_ind = np.array([[f1, f2]])\n",
    "        fitness = np.vstack((fitness, fit_ind))\n",
    "    return fitness"
   ]
  },
  {
   "cell_type": "code",
   "execution_count": null,
   "id": "22eec942",
   "metadata": {},
   "outputs": [],
   "source": []
  },
  {
   "cell_type": "code",
   "execution_count": 3,
   "id": "8b235982",
   "metadata": {},
   "outputs": [],
   "source": [
    "\"\"\"\n",
    "tau — пропорция нечувствительных точек в обучающем наборе.\n",
    "phi — количество случайно выбранных индивидов.\n",
    "wmax — количество поколений перед обновлением архивов (CA и DA).\n",
    "mu — количество решений, которые переоценивались на каждом шаге.\n",
    "\"\"\"\n",
    "tau = 0.75\n",
    "phi = 0.1\n",
    "wmax = 10\n",
    "mu = 5\n",
    "left = np.array([0, -1, -1])\n",
    "right = np.array([1, 1, 1])"
   ]
  },
  {
   "cell_type": "code",
   "execution_count": 4,
   "id": "da487a29",
   "metadata": {},
   "outputs": [],
   "source": [
    "def UniformPoint(N, D, method='Latin'):\n",
    "    \"\"\"\n",
    "    N — количество индивидов.\n",
    "    D — размерность пространства.\n",
    "    method — метод генерации точек (опционально). Если метод не указан, используется метод по умолчанию.\n",
    "    Используется для генерации набора равномерно распределенных точек в многомерном пространстве целей. \n",
    "    NBI, ILD, MUD, grid или Latin, будет выбрана в зависимости от значения method.\n",
    "    \"\"\"\n",
    "    if method == 'Latin':\n",
    "        return Latin(N, D)\n",
    "    \n",
    "def Latin(N, D):\n",
    "    \"\"\"\n",
    "    W - индексная матрица, в которой элементы упорядочены по возрастанию, но содержат индексы исходной матрицы.\n",
    "    \"\"\"\n",
    "    W = np.argsort(np.random.rand(N, D), axis=0)\n",
    "    return (np.random.rand(N, D) + W) / N"
   ]
  },
  {
   "cell_type": "code",
   "execution_count": 5,
   "id": "0e9a6e33",
   "metadata": {},
   "outputs": [],
   "source": [
    "def EvalFitness(P, l, r, function):\n",
    "    \"\"\"\n",
    "    P - матрица индивидов.\n",
    "    l, r - границы.\n",
    "    function - целевая функция.\n",
    "    \"\"\"\n",
    "    points = (r - l) * P + l\n",
    "    return function(points)"
   ]
  },
  {
   "cell_type": "code",
   "execution_count": 6,
   "id": "3f1dceef",
   "metadata": {},
   "outputs": [],
   "source": [
    "def UpdateCA(CA, New, MaxSize):\n",
    "    \"\"\"\n",
    "    CA - архив лучших.\n",
    "    New - новые индивиды.\n",
    "    MaxSize - максимальный размер архива.\n",
    "    Обновляем архив, добавляя новые решения и выбирая индивидов с наилучшей пригодностью.\n",
    "    \"\"\"\n",
    "    CA = np.vstack((CA, New))\n",
    "    n = len(CA)\n",
    "    if n <= MaxSize:\n",
    "        return CA\n",
    "    \n",
    "    CAObj = CA[:, -M:]# пригодность индивидов\n",
    "    \n",
    "    CAmax = np.max(CAObj, axis=0)\n",
    "    CAmin = np.min(CAObj, axis=0)\n",
    "    \n",
    "    #Нормализуем пригодность\n",
    "    CAObj = (CAObj - CAmin) / (CAmax - CAmin)\n",
    "    \n",
    "    I = np.zeros((n, n))\n",
    "    for i in range(n):\n",
    "        for j in range(n):\n",
    "            I[i, j] = np.max(CAObj[i, :] - CAObj[j, :])\n",
    "            \n",
    "    C = np.max(np.abs(I), axis=0)\n",
    "    F = np.sum(-np.exp(-I / C / 0.05), axis=1) + 1\n",
    "    \n",
    "    Choose = list(range(n))\n",
    "    \n",
    "    # Удаляем решения с наименьшей пригодностью\n",
    "    while len(Choose) > MaxSize:\n",
    "        x = np.argmin(F[Choose])\n",
    "        F += np.exp(-I[Choose[x], :] / C[Choose[x]] / 0.05)\n",
    "        del Choose[x]\n",
    "    \n",
    "    # Возвращаем обновленный набор решений\n",
    "    return CA[Choose]\n",
    "    "
   ]
  },
  {
   "cell_type": "code",
   "execution_count": null,
   "id": "a072f93f",
   "metadata": {},
   "outputs": [],
   "source": []
  },
  {
   "cell_type": "code",
   "execution_count": 7,
   "id": "aa5b6c81",
   "metadata": {},
   "outputs": [
    {
     "data": {
      "text/plain": [
       "array([[0.44538108, 0.45698579, 0.51795889],\n",
       "       [0.70956137, 0.04621937, 0.04166945],\n",
       "       [0.2958842 , 0.76738912, 0.91729584],\n",
       "       [0.17962529, 0.25736538, 0.80202049],\n",
       "       [0.91100086, 0.36137904, 0.43100534],\n",
       "       [0.07927551, 0.62821787, 0.29344374],\n",
       "       [0.39027624, 0.16249593, 0.16267574],\n",
       "       [0.51962044, 0.57660096, 0.62938084],\n",
       "       [0.64464338, 0.84554967, 0.32948451],\n",
       "       [0.87320034, 0.90926949, 0.78959734]])"
      ]
     },
     "execution_count": 7,
     "metadata": {},
     "output_type": "execute_result"
    }
   ],
   "source": [
    "pop = UniformPoint(10, 3)\n",
    "pop"
   ]
  },
  {
   "cell_type": "code",
   "execution_count": null,
   "id": "858b1e89",
   "metadata": {},
   "outputs": [],
   "source": []
  },
  {
   "cell_type": "code",
   "execution_count": 8,
   "id": "ec1e396f",
   "metadata": {},
   "outputs": [
    {
     "data": {
      "text/plain": [
       "array([[2.04021167, 1.57669224],\n",
       "       [0.7843508 , 2.77490573],\n",
       "       [0.36498173, 0.85862295],\n",
       "       [0.44200069, 0.68580899],\n",
       "       [3.47517049, 0.97600043],\n",
       "       [0.76130267, 1.66732554],\n",
       "       [0.47363455, 1.2173182 ],\n",
       "       [0.54071563, 1.49576781],\n",
       "       [1.75272489, 0.38074975],\n",
       "       [0.89463427, 2.5296141 ]])"
      ]
     },
     "execution_count": 8,
     "metadata": {},
     "output_type": "execute_result"
    }
   ],
   "source": [
    "left = np.array([0, -1, -1])\n",
    "right = np.array([1, 1, 1])\n",
    "fit = EvalFitness(pop, left, right, UF7)\n",
    "fit"
   ]
  },
  {
   "cell_type": "code",
   "execution_count": 9,
   "id": "7fbadd92",
   "metadata": {},
   "outputs": [
    {
     "data": {
      "text/plain": [
       "array([[0.44538108, 0.45698579, 0.51795889, 2.04021167, 1.57669224],\n",
       "       [0.70956137, 0.04621937, 0.04166945, 0.7843508 , 2.77490573],\n",
       "       [0.2958842 , 0.76738912, 0.91729584, 0.36498173, 0.85862295],\n",
       "       [0.17962529, 0.25736538, 0.80202049, 0.44200069, 0.68580899],\n",
       "       [0.91100086, 0.36137904, 0.43100534, 3.47517049, 0.97600043],\n",
       "       [0.07927551, 0.62821787, 0.29344374, 0.76130267, 1.66732554],\n",
       "       [0.39027624, 0.16249593, 0.16267574, 0.47363455, 1.2173182 ],\n",
       "       [0.51962044, 0.57660096, 0.62938084, 0.54071563, 1.49576781],\n",
       "       [0.64464338, 0.84554967, 0.32948451, 1.75272489, 0.38074975],\n",
       "       [0.87320034, 0.90926949, 0.78959734, 0.89463427, 2.5296141 ]])"
      ]
     },
     "execution_count": 9,
     "metadata": {},
     "output_type": "execute_result"
    }
   ],
   "source": [
    "Population = np.hstack((pop, fit))         \n",
    "Population#индивиды + пригодности"
   ]
  },
  {
   "cell_type": "code",
   "execution_count": 83,
   "id": "a57bada8",
   "metadata": {},
   "outputs": [
    {
     "data": {
      "text/plain": [
       "array([[0.28053072, 0.22616213, 0.68351992, 0.72588279, 4.60873815],\n",
       "       [0.01282734, 0.92106056, 0.95231092, 2.63058554, 0.91602795],\n",
       "       [0.87112897, 0.52819526, 0.08874818, 5.22933775, 0.36301364],\n",
       "       [0.69256013, 0.34279513, 0.74352317, 2.52034599, 1.59533393],\n",
       "       [0.9191105 , 0.61193708, 0.24171176, 5.51268601, 0.24034641]])"
      ]
     },
     "execution_count": 83,
     "metadata": {},
     "output_type": "execute_result"
    }
   ],
   "source": [
    "M = 2\n",
    "UpdateCA(np.empty((0,5)), Population, 5)"
   ]
  },
  {
   "cell_type": "code",
   "execution_count": null,
   "id": "d9f90893",
   "metadata": {},
   "outputs": [],
   "source": [
    "def dacefit(S,Y,regr,corr,theta0,lob,upb):\n",
    "    \"\"\"\n",
    "    S, Y - точки данных и значения функции в этих точках.\n",
    "    regr - функция регрессии.\n",
    "    corr - корреляционная функция.\n",
    "    theta0 - параметры корреляционной функции.\n",
    "    lob, upb - нижние и верхние границы для оптимизации параметров корреляции.\n",
    "    Если присутствует, то нижняя и верхняя границы theta. В противном случае для theta используется theta0..\n",
    "    \"\"\"\n",
    "    \n",
    "    #Проверка корректности входных данных\n",
    "    m,n = S.shape\n",
    "    #Если вектор строчный, то преоброзуем его в стобец и сохраним длинну в lenY, иначе сохраним кол-во строк в lenY\n",
    "    if Y.ndim == 1:\n",
    "        Y = Y.reshape(-1,1)\n",
    "        lenY = len(Y)\n",
    "    else:\n",
    "        lenY = Y.shape[0]\n",
    "        \n",
    "    if S.shape[0] != Y.shape[0]:\n",
    "        raise ValueError(\"S и Y должнны иметь одинаковое количество строк\")\n",
    "        \n",
    "    #Проверка параметров корреляции, если заданы границы\n",
    "        \n",
    "    "
   ]
  }
 ],
 "metadata": {
  "kernelspec": {
   "display_name": "Python 3 (ipykernel)",
   "language": "python",
   "name": "python3"
  },
  "language_info": {
   "codemirror_mode": {
    "name": "ipython",
    "version": 3
   },
   "file_extension": ".py",
   "mimetype": "text/x-python",
   "name": "python",
   "nbconvert_exporter": "python",
   "pygments_lexer": "ipython3",
   "version": "3.8.18"
  }
 },
 "nbformat": 4,
 "nbformat_minor": 5
}
